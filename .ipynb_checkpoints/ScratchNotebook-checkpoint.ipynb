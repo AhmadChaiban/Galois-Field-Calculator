{
 "cells": [
  {
   "cell_type": "markdown",
   "metadata": {},
   "source": [
    "## Code Report Using Jupyter Notebook"
   ]
  },
  {
   "cell_type": "code",
   "execution_count": 38,
   "metadata": {},
   "outputs": [
    {
     "name": "stdout",
     "output_type": "stream",
     "text": [
      "Requirement already satisfied: pyfinite in c:\\users\\user\\anaconda3\\lib\\site-packages (1.7)\n",
      "Requirement already satisfied: msgpack-python in c:\\users\\user\\anaconda3\\lib\\site-packages (from pyfinite) (0.5.6)\n"
     ]
    }
   ],
   "source": [
    "!pip install pyfinite"
   ]
  },
  {
   "cell_type": "code",
   "execution_count": 15,
   "metadata": {},
   "outputs": [],
   "source": [
    "###############################################################################################################################\n",
    "                                                ##Galois Field Calculator \n",
    "###############################################################################################################################\n",
    "\n",
    "## Importing Finite Fields from pyfinite\n",
    "from pyfinite import ffield\n",
    "\n",
    "## The follow field_calculator function takes 5 arguments: \n",
    "##     1. List of binary numbers to be worked on\n",
    "##     2. The operation (as a string)\n",
    "##     3. The field power m in GF(2^m)\n",
    "##     4. The field generator\n",
    "##     5. Whether to show the result as a polynomial or binary (boolean)\n",
    "\n",
    "def ffield_calculator(polyList,operation,field_power_m,generator,showPoly): \n",
    "    ## If there are no values in the list of binary numbers, return an error\n",
    "    if len(polyList) <= 0:\n",
    "        return \"Error: Please enter binary values to compute\"\n",
    "    ## if the field generator is 0 and greater than 100, return an error\n",
    "    if generator == 0 and field_power_m>100:\n",
    "        return 'generator cannot be 0'\n",
    "    ## Defining the field below using the function input values\n",
    "    F = ffield.FField(field_power_m,generator) ## Field generator\n",
    "    ## Assigning the first value of the list of binary numbers to begin the operations\n",
    "    c = int(str(polyList[0]),2)\n",
    "    ## If the operation chosen is mod and there are more than two elements throw an error\n",
    "    if operation == 'mod' and len(polyList)>2:\n",
    "        return \"Error: Please enter two elements\"\n",
    "    ## If the operation is inverse and there is more than one element, throw an error\n",
    "    if operation == 'inverse':\n",
    "        ## if there is more than one element in the inverse operation, throw an error\n",
    "        if len(polyList) > 1:\n",
    "            return 'Error, enter only one element for the inverse'\n",
    "        ## if there is only one element, calculate the inverse\n",
    "        c = F.Inverse(c)\n",
    "        ## if show as polynomial is selected, show the inverse as a polynomial\n",
    "        if showPoly == True:\n",
    "            return F.ShowPolynomial(c)\n",
    "        ## format the binary number without '0b'\n",
    "        return ('{0:b}'.format(c))\n",
    "    ## Begin the loop for multiplication, this loop starts from the second element to the last element.\n",
    "    ## This is because the first element was already selected previously as 'c'\n",
    "    for i in range(1,len(polyList)):\n",
    "        ## Define the value of the next element (starting with the second and then +1 with every iteration)\n",
    "        a = int(str(polyList[i]),2)\n",
    "        ## if the operation selected is multiply, then multiply\n",
    "        if operation == 'multiply':\n",
    "            c = F.Multiply(c,a)\n",
    "        ## if the operation selected is divide, then divide\n",
    "        elif operation == 'divide':\n",
    "            c = F.Divide(c,a)\n",
    "        ## if the operation selected is add, then add\n",
    "        elif operation == 'add':\n",
    "            c = F.Add(c,a)\n",
    "        ## if the operation selected is subtract, then subtract\n",
    "        elif operation == 'subtract':\n",
    "            c = F.Subtract(c,a)\n",
    "        ## if the operation select is multiply without reducing, then proceed with that\n",
    "        elif operation == 'multiplyNoReduce':\n",
    "            c = F.MultiplyWithoutReducing(c,a)\n",
    "        ## if the operation selected is mod, then:\n",
    "        elif operation == 'mod':\n",
    "            ## If the operation is mod and there is only one element, throw an error\n",
    "            if len(polyList) == 1:\n",
    "                return \"Error, enter two values for this operation\"\n",
    "            ## Else if there are exactly two elements, apply the full division\n",
    "            c = F.FullDivision(c,a,F.FindDegree(c),F.FindDegree(a))\n",
    "    ## if the operation is mod then:\n",
    "    if operation == 'mod':\n",
    "        ## if the show as polynomial option is checked, then return the remainder as a polynomial\n",
    "        if showPoly == True:\n",
    "            return F.ShowPolynomial(c[1])\n",
    "        ## if showPoly is false, return as binary\n",
    "        return ('{0:b}'.format(c[1]))\n",
    "    ## in general if show as polynomial is selected, print as a polynomial\n",
    "    if showPoly == True:\n",
    "        return F.ShowPolynomial(c)\n",
    "    ## if show polynomial is false, print as binary\n",
    "    return ('{0:b}'.format(c))"
   ]
  },
  {
   "cell_type": "code",
   "execution_count": 16,
   "metadata": {},
   "outputs": [
    {
     "data": {
      "text/plain": [
       "'x^3 + x^2 + x^1 + 1'"
      ]
     },
     "execution_count": 16,
     "metadata": {},
     "output_type": "execute_result"
    }
   ],
   "source": [
    "ffield_calculator([1111,101010],'mod',163,162,True)"
   ]
  },
  {
   "cell_type": "code",
   "execution_count": 21,
   "metadata": {},
   "outputs": [],
   "source": [
    "from tkinter import *\n",
    "\n",
    "##########################################################################################\n",
    "master = Tk() ##initialize the GUI\n",
    "##########################################################################################\n",
    "## Rename the title of the software\n",
    "master.title('Galois Field Calculator')\n",
    "## Set the background of the GUI as black\n",
    "master.configure(background = 'black')\n",
    "## Define the labels for each input box\n",
    "## This is the first input box for the field power \n",
    "Label(master, text='Field GF(2^m), type in the power m',font=('monospace',8),bg='black',fg='#7D5710').grid(row=0) \n",
    "fieldVal = Entry(master,bg='#6E7B7C')\n",
    "fieldVal.grid(row=0,column=1)\n",
    "##Defining hte second input box for the field generator value\n",
    "Label(master, text='Type in the Generator value',font=('monospace',8),bg='black',fg='#7D5710').grid(row=1) \n",
    "genVal = Entry(master,bg='#6E7B7C')\n",
    "genVal.grid(row=1,column=1)\n",
    "## Input box to enter the binary numbers required for operation\n",
    "Label(master, text='Values for operation (split with spaces)',font = ('monospace',8),bg='black',fg='#7D5710').grid(row=2) \n",
    "polyStr = Entry(master,bg='#6E7B7C')\n",
    "polyStr.grid(row=2,column=1)\n",
    "## Define the checkbutton variable as a boolean variable\n",
    "showPoly = BooleanVar()\n",
    "## Define the actual checkbutton here, style it and assign it to the GUI grid\n",
    "Checkbutton(master, text='Polynomial Form (Default is Binary)', variable=showPoly,font=('monospace',8),bg='black',fg='#029FC6').grid(row=3,columnspan = 2)\n",
    "## Define the label for results of the calculations globally \n",
    "global label\n",
    "## The label here is being defined and set as empty for updating per iteration purposes\n",
    "label = Label(master, textvariable= \"\", font = ('monospace',20),bg='black',fg='#029FC6')\n",
    "## The following function prints the result of the button press\n",
    "def printResult(oper):\n",
    "    ## Splitting the binary number input string\n",
    "    polys = polyStr.get().split(\" \")\n",
    "    ## Calculating the values\n",
    "    x = ffield_calculator(polys,oper,int(fieldVal.get()),int(genVal.get()),showPoly.get())\n",
    "    ## Changing the label value to the result\n",
    "    label['text'] = str(x)\n",
    "    ## Assigning the label to the GUI grid\n",
    "    label.grid(row = 8,column =0,columnspan=2)\n",
    "    \n",
    "## Defining each operation button an assigning it in the GUI grid. Each button runs the printResult function with the corresponding operation\n",
    "## The function implementation was done using lambda notation\n",
    "## Some styling was also applied to each button.\n",
    "Button1 = Button(master, text='Multiply',font=('monospace',8), width=30, command= lambda: printResult('multiply'),fg='white',bg='#262626')\n",
    "Button1.grid(row=4)\n",
    "Button2 = Button(master, text='Divide', font=('monospace',8),width=30, command= lambda: printResult('divide'),fg='white',bg='#262626')\n",
    "Button2.grid(row=4,column=1)\n",
    "Button3 = Button(master, text='Add',font=('monospace',8), width=30, command= lambda: printResult('add'),fg='white',bg='#262626')\n",
    "Button3.grid(row=5,column=0)\n",
    "Button4 = Button(master, text='Subtract',font=('monospace',8), width=30, command= lambda: printResult('subtract'),fg='white',bg='#262626')\n",
    "Button4.grid(row=5,column=1)\n",
    "Button5 = Button(master, text='Inverse',font=('monospace',8), width=30, command= lambda: printResult('inverse'),fg='white',bg='#262626')\n",
    "Button5.grid(row=6,column=0)\n",
    "Button6 = Button(master, text='Modulo', font=('monospace',8), width=30, command= lambda: printResult('mod'),fg='white',bg='#262626')\n",
    "Button6.grid(row=6,column=1)\n",
    "Button62 = Button(master, text='Multiply without reducing',font=('monospace',8), width=52, command= lambda: printResult('mod'),fg='white',bg='#262626')\n",
    "Button62.grid(row=7,column=0,columnspan=2)\n",
    "Button72 = Button(master, text='Clear',font=('monospace',8), width=52, command= lambda: clear(label),fg='#7D5710',bg='#262626')\n",
    "Button72.grid(row=9,columnspan=2)\n",
    "Button7 = Button(master, text='Exit',font=('monospace',8), width=52, command= master.destroy,fg='#7D5710',bg='#262626')\n",
    "Button7.grid(row=10,columnspan=2)\n",
    "\n",
    "############################################################################################\n",
    "mainloop() ## loop the GUI\n",
    "############################################################################################"
   ]
  },
  {
   "cell_type": "code",
   "execution_count": null,
   "metadata": {},
   "outputs": [],
   "source": []
  }
 ],
 "metadata": {
  "kernelspec": {
   "display_name": "Python 3",
   "language": "python",
   "name": "python3"
  },
  "language_info": {
   "codemirror_mode": {
    "name": "ipython",
    "version": 3
   },
   "file_extension": ".py",
   "mimetype": "text/x-python",
   "name": "python",
   "nbconvert_exporter": "python",
   "pygments_lexer": "ipython3",
   "version": "3.7.3"
  }
 },
 "nbformat": 4,
 "nbformat_minor": 2
}
