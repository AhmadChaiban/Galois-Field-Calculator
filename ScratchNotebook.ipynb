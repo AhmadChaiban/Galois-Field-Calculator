{
 "cells": [
  {
   "cell_type": "markdown",
   "metadata": {},
   "source": [
    "## Code Report Using Jupyter Notebook"
   ]
  },
  {
   "cell_type": "code",
   "execution_count": 81,
   "metadata": {},
   "outputs": [
    {
     "name": "stdout",
     "output_type": "stream",
     "text": [
      "Collecting tkinter\n"
     ]
    },
    {
     "name": "stderr",
     "output_type": "stream",
     "text": [
      "  ERROR: Could not find a version that satisfies the requirement tkinter (from versions: none)\n",
      "ERROR: No matching distribution found for tkinter\n"
     ]
    }
   ],
   "source": [
    "!pip install tkinter"
   ]
  },
  {
   "cell_type": "code",
   "execution_count": 92,
   "metadata": {},
   "outputs": [
    {
     "name": "stdout",
     "output_type": "stream",
     "text": [
      "x^6 + 1\n"
     ]
    }
   ],
   "source": [
    "F = ffield.FField(163,162) ## Defining the field\n",
    "a = 5\n",
    "b = 10\n",
    "c = F.Inverse(a)\n",
    "print(F.ShowPolynomial(c))"
   ]
  },
  {
   "cell_type": "code",
   "execution_count": 8,
   "metadata": {},
   "outputs": [
    {
     "data": {
      "text/plain": [
       "168"
      ]
     },
     "execution_count": 8,
     "metadata": {},
     "output_type": "execute_result"
    }
   ],
   "source": [
    "(np.power(2,7) + np.power(2,5) + np.power(2,3)) "
   ]
  },
  {
   "cell_type": "code",
   "execution_count": 310,
   "metadata": {},
   "outputs": [],
   "source": [
    "from pyfinite import ffield\n",
    "import numpy as np\n",
    "\n",
    "def ffield_calculator(polyList,operation,field_power_m,generator,showPoly):\n",
    "    if generator == 0:\n",
    "        return 'generator cannot be 0'\n",
    "    F = ffield.FField(field_power_m,generator) ## Field generator\n",
    "    c = int(str(polyList[0]),2) ## Taking and converting the first element to begin the multiplication/concat\n",
    "    if operation == 'mod' and len(polyList)>2:\n",
    "        return \"Error: Please enter two elements\"\n",
    "    if operation == 'inverse':\n",
    "        if len(polyList) > 1:\n",
    "            return 'Error, enter only one element for the inverse'\n",
    "        c = F.Inverse(c)\n",
    "        if showPoly == True:\n",
    "            return F.ShowPolynomial(c)\n",
    "        return ('{0:b}'.format(c))\n",
    "    for i in range(1,len(polyList)):\n",
    "        a = int(str(polyList[i]),2)\n",
    "        if operation == 'multiply':\n",
    "            c = F.Multiply(c,a)\n",
    "        elif operation == 'divide':\n",
    "            c = F.Divide(c,a)\n",
    "        elif operation == 'add':\n",
    "            c = F.Add(c,a)\n",
    "        elif operation == 'subtract':\n",
    "            c = F.Subtract(c,a)\n",
    "        elif operation == 'multiplyNoReduce':\n",
    "            c = F.MultiplyWithoutReducing(c,a)\n",
    "        elif operation == 'mod':\n",
    "            c = F.FullDivision(c,a,F.FindDegree(c),F.FindDegree(a))\n",
    "    if operation == 'mod':\n",
    "        if showPoly == True:\n",
    "            return F.ShowPolynomial(c[1])\n",
    "        return ('{0:b}'.format(c[1]))\n",
    "    if showPoly == True:\n",
    "        return F.ShowPolynomial(c)\n",
    "    return ('{0:b}'.format(c))"
   ]
  },
  {
   "cell_type": "code",
   "execution_count": 311,
   "metadata": {},
   "outputs": [
    {
     "data": {
      "text/plain": [
       "'x^3 + x^2 + x^1 + 1'"
      ]
     },
     "execution_count": 311,
     "metadata": {},
     "output_type": "execute_result"
    }
   ],
   "source": [
    "ffield_calculator([1111,101010],'mod',163,162,True)"
   ]
  },
  {
   "cell_type": "code",
   "execution_count": 309,
   "metadata": {},
   "outputs": [],
   "source": [
    "from tkinter import *\n",
    "\n",
    "master = Tk()\n",
    "##########################################################################################\n",
    "master.title('Galois Field Calculator')\n",
    "\n",
    "Label(master, text='Select Field').grid(row=0) \n",
    "fieldVal = Entry(master)\n",
    "fieldVal.grid(row=0,column=1)\n",
    "\n",
    "Label(master, text='Select Generator').grid(row=1) \n",
    "genVal = Entry(master)\n",
    "genVal.grid(row=1,column=1)\n",
    "\n",
    "Label(master, text='Values for operation').grid(row=2) \n",
    "polyStr = Entry(master)\n",
    "polyStr.grid(row=2,column=1)\n",
    "\n",
    "showPoly = BooleanVar()\n",
    "Checkbutton(master, text='Polynomial Form (Default is Binary)', variable=showPoly).grid(row=3,columnspan = 2)\n",
    "\n",
    "label = Label(master, text= '...', font = ('monospace',20))\n",
    "label.grid(row = 7,column =0,columnspan=2)\n",
    "\n",
    "Button1 = Button(master, text='Multiply', width=25, command= lambda: printResult('multiply'))\n",
    "Button1.grid(row=4)\n",
    "Button2 = Button(master, text='Divide', width=25, command= printResult)\n",
    "Button2.grid(row=4,column=1)\n",
    "Button3 = Button(master, text='Add', width=25, command= printResult)\n",
    "Button3.grid(row=5,column=0)\n",
    "Button4 = Button(master, text='Subtract', width=25, command= printResult)\n",
    "Button4.grid(row=5,column=1)\n",
    "Button5 = Button(master, text='Inverse', width=25, command= printResult)\n",
    "Button5.grid(row=6,column=0)\n",
    "Button6 = Button(master, text='Modulo', width=25, command= printResult)\n",
    "Button6.grid(row=6,column=1)\n",
    "Button7 = Button(master, text='Exit', width=52, command= master.destroy)\n",
    "Button7.grid(row=8,columnspan=2)\n",
    "\n",
    "def printResult(oper):\n",
    "    polys = polyStr.get().split(\" \")\n",
    "    x = ffield_calculator(polys,oper,int(fieldVal.get()),int(genVal.get()),showPoly.get())\n",
    "    label = Label(master, text= str(x), font = ('monospace',20)).grid(row = 7,column =0,columnspan=2)\n",
    "    \n",
    "############################################################################################\n",
    "mainloop() "
   ]
  },
  {
   "cell_type": "code",
   "execution_count": null,
   "metadata": {},
   "outputs": [],
   "source": []
  }
 ],
 "metadata": {
  "kernelspec": {
   "display_name": "Python 3",
   "language": "python",
   "name": "python3"
  },
  "language_info": {
   "codemirror_mode": {
    "name": "ipython",
    "version": 3
   },
   "file_extension": ".py",
   "mimetype": "text/x-python",
   "name": "python",
   "nbconvert_exporter": "python",
   "pygments_lexer": "ipython3",
   "version": "3.7.3"
  }
 },
 "nbformat": 4,
 "nbformat_minor": 2
}
